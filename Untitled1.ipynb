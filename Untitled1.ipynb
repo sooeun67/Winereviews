{
 "cells": [
  {
   "cell_type": "code",
   "execution_count": 2,
   "metadata": {},
   "outputs": [],
   "source": [
    "@a\n",
    "def f():\n",
    "    pass\n",
    "x = 3\n",
    "\n",
    "import a\n",
    "a.f(3)\n",
    "a.x\n",
    "\n",
    "from a import f, g\n",
    "f(3)"
   ]
  },
  {
   "cell_type": "code",
   "execution_count": 72,
   "metadata": {},
   "outputs": [],
   "source": [
    "# -*- encoding: utf-8 -*-\n",
    "\n",
    "from address import AddressParser, Address\n",
    "import re\n",
    "\n",
    "def city(x):\n",
    "    dist = {'ALABAMA': 'AL', 'ALASKA': 'AK', 'ARIZONA': 'AZ', 'ARKANSAS': 'AR', 'CALIFORNIA': 'CA', 'COLORADO': 'CO', 'CONNECTICUT': 'CT', 'DELAWARE': 'DE', 'FLORIDA': 'FL', 'GEORGIA': 'GA', 'HAWAII': 'HI', 'IDAHO': 'ID', 'ILLINOIS': 'IL', 'INDIANA': 'IN', 'IOWA': 'IA', 'KANSAS': 'KS', 'KENTUCKY': 'KY', 'LOUISIANA': 'LA', 'MAINE': 'ME', 'MARYLAND': 'MD', 'MASSACHUSETTS': 'MA', 'MICHIGAN': 'MI', 'MINNESOTA': 'MN', 'MISSISSIPPI': 'MS', 'MISSOURI': 'MO', 'MONTANA': 'MT', 'NEBRASKA': 'NE', 'NEVADA': 'NV', 'NEW HAMPSHIRE': 'NH', 'NEW JERSEY': 'NJ', 'NEW MEXICO': 'NM', 'NEW YORK': 'NY', 'NORTH CAROLINA': 'NC', 'NORTH DAKOTA': 'ND', 'OHIO': 'OH', 'OKLAHOMA': 'OK', 'OREGON': 'OR', 'PENNSYLVANIA': 'PA', 'RHODE ISLAND': 'RI', 'SOUTH CAROLINA': 'SC', 'SOUTH DAKOTA': 'SD', 'TENNESSEE': 'TN', 'TEXAS': 'TX', 'UTAH': 'UT', 'VERMONT': 'VT', 'VIRGINIA': 'VA', 'WASHINGTON': 'WA', 'WEST VIRGINIA': 'WV', 'WISCONSIN': 'WI', 'WYOMING': 'WY', 'DISTRICT OF COLUMBIA': 'DC', 'ALA.': 'AL', 'ALASKA': 'AK', 'ARIZ.': 'AZ', 'ARK.': 'AR', 'CALIF.': 'CA', 'COLO.': 'CO', 'CONN.': 'CT', 'DEL.': 'DE', 'FLA.': 'FL', 'GA.': 'GA', 'HAWAII': 'HI', 'IDAHO': 'ID', 'ILL.': 'IL', 'IND.': 'IN', 'IOWA': 'IA', 'KAN.': 'KS', 'KY.': 'KY', 'LA.': 'LA', 'MAINE': 'ME', 'MD.': 'MD', 'MASS.': 'MA', 'MICH.': 'MI', 'MINN.': 'MN', 'MISS.': 'MS', 'MO.': 'MO', 'MONT.': 'MT', 'NEB.': 'NE', 'NEV.': 'NV', 'N.H.': 'NH', 'N.J.': 'NJ', 'N.M.': 'NM', 'N.Y.': 'NY', 'N.C.': 'NC', 'N.D.': 'ND', 'OHIO': 'OH', 'OKLA.': 'OK', 'ORE.': 'OR', 'PA.': 'PA', 'R.I.': 'RI', 'S.C.': 'SC', 'S.D.': 'SD', 'TENN.': 'TN', 'TEXAS': 'TX', 'UTAH': 'UT', 'VT.': 'VT', 'VA.': 'VA', 'WASH.': 'WA', 'W.VA.': 'WV', 'WIS.': 'WI', 'WYO.': 'WY', 'D.C.': 'DC'}\n",
    "    states = list(set(dist.keys()))\n",
    "    state_posts = list(set(dist.values()))\n",
    "    all_states = states+state_posts\n",
    "    try:\n",
    "        ap = AddressParser()\n",
    "        x = str(x)\n",
    "        city = ap.parse_address(x).city\n",
    "        ret = city.lower()\n",
    "        print '<Address Parser Worked Successfully>'\n",
    "        return ret\n",
    "    except Exception as error:\n",
    "        print '<Except Block>: ' + str(error)\n",
    "        tokens = re.split(':| |,|/|-', x)\n",
    "        # x: new york city\n",
    "            # states: ['ALABAMA', 'NEW YORK']\n",
    "            # state: 'ALABAMA'\n",
    "            # x.upper(): NEW YORK CITY\n",
    "            # => False\n",
    "            # state: NEW YORK\n",
    "            # x.upper() : NEW YORK CITY\n",
    "            # => True\n",
    "            # any(False, True)\n",
    "            # => True \n",
    "        if any(state in x.upper() for state in states): # If any word contains state_name, then capitalize the entire string\n",
    "            print '<2nd if>'\n",
    "            if exceptional_city_name in x.upper():\n",
    "                state = the last state name (in case there are more than two)\n",
    "                words = replace only state, preserving exceptional_city_name intact\n",
    "            else:\n",
    "                state = next(state for state in states if state in x.upper()) # NEW YORK CITY\n",
    "                words = x.upper().replace(state, '')   \n",
    "                \n",
    "        elif any(word.upper() in all_states for word in tokens):\n",
    "           # split the address (x) by : OR OR / OR - OR ,\n",
    "           # and capitalize each word\n",
    "           # if any of them is included in all_states, go into 1st if block\n",
    "            print '<1st if>'\n",
    "            tokens.reverse()#      , City, York, \n",
    "            state = next(word for word in tokens if word.upper() in all_states)\n",
    "            words = x.replace(state, '')\n",
    "            \n",
    "        else:\n",
    "            print '<3rd if>'\n",
    "            words = x\n",
    "            \n",
    "        words = words.replace(',','').replace(':','').replace('/','').strip()\n",
    "        print 'words: ' + words\n",
    "        if all([\n",
    "                not(ap.parse_address(x).house_number and ap.parse_address(x).street),\n",
    "                # if this does not contain either house number OR street,\n",
    "                \n",
    "                len(words.strip()) < 30,\n",
    "                # length is less than 30\n",
    "        \n",
    "                any(i.isalpha() for i in words),\n",
    "                # if word contains any alphabet,\n",
    "        \n",
    "                words.lower() != 'none'\n",
    "                # if word is not 'none',\n",
    "        \n",
    "        ]):\n",
    "            return words.lower() # return the lowercased word\n",
    "        \n",
    "        \n",
    "        return None    "
   ]
  },
  {
   "cell_type": "code",
   "execution_count": 73,
   "metadata": {},
   "outputs": [
    {
     "name": "stdout",
     "output_type": "stream",
     "text": [
      "<Except Block>: 'NoneType' object has no attribute 'lower'\n",
      "<2nd if>\n",
      "words: CITY\n"
     ]
    },
    {
     "data": {
      "text/plain": [
       "'city'"
      ]
     },
     "execution_count": 73,
     "metadata": {},
     "output_type": "execute_result"
    }
   ],
   "source": [
    "city('new york city')"
   ]
  },
  {
   "cell_type": "code",
   "execution_count": 74,
   "metadata": {},
   "outputs": [
    {
     "name": "stdout",
     "output_type": "stream",
     "text": [
      "[test #0]\n",
      "<Address Parser Worked Successfully>\n",
      "<<FAIL>>:  160, washington, arlington [answer] None [output] arlington\n",
      "\n",
      "\n",
      "\n"
     ]
    },
    {
     "ename": "ValueError",
     "evalue": "need more than 0 values to unpack",
     "output_type": "error",
     "traceback": [
      "\u001b[1;31m\u001b[0m",
      "\u001b[1;31mValueError\u001b[0mTraceback (most recent call last)",
      "\u001b[1;32m<ipython-input-74-98dea482caca>\u001b[0m in \u001b[0;36m<module>\u001b[1;34m()\u001b[0m\n\u001b[0;32m     36\u001b[0m     ]\n\u001b[0;32m     37\u001b[0m ]\n\u001b[1;32m---> 38\u001b[1;33m \u001b[1;32mfor\u001b[0m \u001b[0mtest_index\u001b[0m\u001b[1;33m,\u001b[0m \u001b[1;33m(\u001b[0m\u001b[0mtest\u001b[0m\u001b[1;33m,\u001b[0m \u001b[0manswer\u001b[0m\u001b[1;33m)\u001b[0m \u001b[1;32min\u001b[0m \u001b[0menumerate\u001b[0m\u001b[1;33m(\u001b[0m\u001b[0mtestsets\u001b[0m\u001b[1;33m)\u001b[0m\u001b[1;33m:\u001b[0m\u001b[1;33m\u001b[0m\u001b[0m\n\u001b[0m\u001b[0;32m     39\u001b[0m     \u001b[1;32mprint\u001b[0m \u001b[1;34m'[test #'\u001b[0m \u001b[1;33m+\u001b[0m \u001b[0mstr\u001b[0m\u001b[1;33m(\u001b[0m\u001b[0mtest_index\u001b[0m\u001b[1;33m)\u001b[0m \u001b[1;33m+\u001b[0m \u001b[1;34m']'\u001b[0m\u001b[1;33m\u001b[0m\u001b[0m\n\u001b[0;32m     40\u001b[0m \u001b[1;33m\u001b[0m\u001b[0m\n",
      "\u001b[1;31mValueError\u001b[0m: need more than 0 values to unpack"
     ]
    }
   ],
   "source": [
    "testsets = [\n",
    "    [\n",
    "        \n",
    "    ],\n",
    "    [\n",
    "        'Richmond',\n",
    "        'richmond'\n",
    "    ],\n",
    "    [\n",
    "        'This is an example that is too long and can not be a city name',\n",
    "        None\n",
    "    ],\n",
    "    [\n",
    "        '123-45',\n",
    "        None\n",
    "    ],\n",
    "    [\n",
    "        'Winston–Salem',\n",
    "        'winston–salem'\n",
    "    ],\n",
    "    [\n",
    "        '700 14th St NW, Washington DC 20005',\n",
    "        'washington'\n",
    "    ],\n",
    "    [\n",
    "        'Arlington VA',\n",
    "        'arlington'\n",
    "    ],\n",
    "    [\n",
    "        'New York NY',\n",
    "        'new york'\n",
    "    ]\n",
    "]\n",
    "for test_index, (test, answer) in enumerate(testsets):\n",
    "    print '[test #' + str(test_index) + ']'\n",
    "    \n",
    "    program_answer = city(test)\n",
    "    if program_answer != answer:\n",
    "        print ' '.join(map(str, (\n",
    "                                 '<<FAIL>>: ', test, '[answer]', answer, '[output]', program_answer)))\n",
    "    else:\n",
    "        print ' '.join(map(str, ('<<SUCCESS>>: ', test)))\n",
    "        \n",
    "    print '\\n\\n'"
   ]
  },
  {
   "cell_type": "code",
   "execution_count": null,
   "metadata": {},
   "outputs": [],
   "source": []
  },
  {
   "cell_type": "code",
   "execution_count": null,
   "metadata": {},
   "outputs": [],
   "source": []
  },
  {
   "cell_type": "code",
   "execution_count": null,
   "metadata": {},
   "outputs": [],
   "source": []
  },
  {
   "cell_type": "code",
   "execution_count": null,
   "metadata": {},
   "outputs": [],
   "source": []
  },
  {
   "cell_type": "code",
   "execution_count": null,
   "metadata": {},
   "outputs": [],
   "source": []
  }
 ],
 "metadata": {
  "kernelspec": {
   "display_name": "Python 2",
   "language": "python",
   "name": "python2"
  },
  "language_info": {
   "codemirror_mode": {
    "name": "ipython",
    "version": 2
   },
   "file_extension": ".py",
   "mimetype": "text/x-python",
   "name": "python",
   "nbconvert_exporter": "python",
   "pygments_lexer": "ipython2",
   "version": "2.7.15"
  }
 },
 "nbformat": 4,
 "nbformat_minor": 2
}
